{
 "cells": [
  {
   "cell_type": "code",
   "execution_count": null,
   "metadata": {},
   "outputs": [],
   "source": [
    "import sys, pygame\n",
    "from time import sleep\n",
    "pygame.init()\n",
    "\n",
    "size = width, height = 640, 450\n",
    "speed = [2, 2]\n",
    "black = (0, 0, 0)\n",
    "red = (255, 0 , 0)\n",
    "\n",
    "screen = pygame.display.set_mode(size)"
   ]
  },
  {
   "cell_type": "code",
   "execution_count": null,
   "metadata": {},
   "outputs": [],
   "source": [
    "def ball_wall_collision(ballrect,speed):\n",
    "    if ballrect.left < 0 or ballrect.right > width:\n",
    "        ballrect.centerx=width/2\n",
    "        ballrect.centery=height/2\n",
    "        pygame.time.delay(2000)\n",
    "    if ballrect.top < 0 or ballrect.bottom > height:\n",
    "        speed[1] = -speed[1]"
   ]
  },
  {
   "cell_type": "code",
   "execution_count": null,
   "metadata": {},
   "outputs": [],
   "source": [
    "def draw_rect(scr,color,xpos,ypos,width,height):\n",
    "    pygame.draw.rect(scr,color,(xpos,ypos,width,height),0)"
   ]
  },
  {
   "cell_type": "code",
   "execution_count": null,
   "metadata": {},
   "outputs": [],
   "source": [
    "ball = pygame.image.load(\"intro_ball.gif\")\n",
    "ballrect = ball.get_rect()\n",
    "\n",
    "\n",
    "screen.fill(black)\n",
    "xpos=10\n",
    "ypos=200\n",
    "puck_width=10\n",
    "puck_height=100\n",
    "draw_rect(screen,red,xpos,ypos,puck_width,puck_height)\n",
    "while 1:\n",
    "    for event in pygame.event.get():\n",
    "        if event.type == pygame.QUIT: sys.exit()\n",
    "\n",
    "    ballrect = ballrect.move(speed)\n",
    "    \n",
    "    ball_wall_collision(ballrect,speed)\n",
    "    #puckrect = puckrect.move(speed)\n",
    "    screen.fill(black)\n",
    "    #xpos=xpos+speed[0]\n",
    "    ypos=ypos+speed[1]\n",
    "    draw_rect(screen,red,xpos,ypos,puck_width,puck_height)\n",
    "    screen.blit(ball, ballrect)\n",
    "    pygame.display.flip()\n",
    "    pygame.time.delay(30)"
   ]
  },
  {
   "cell_type": "code",
   "execution_count": null,
   "metadata": {},
   "outputs": [],
   "source": []
  }
 ],
 "metadata": {
  "kernelspec": {
   "display_name": "Python 3",
   "language": "python",
   "name": "python3"
  },
  "language_info": {
   "codemirror_mode": {
    "name": "ipython",
    "version": 3
   },
   "file_extension": ".py",
   "mimetype": "text/x-python",
   "name": "python",
   "nbconvert_exporter": "python",
   "pygments_lexer": "ipython3",
   "version": "3.7.3"
  }
 },
 "nbformat": 4,
 "nbformat_minor": 2
}
